{
 "cells": [
  {
   "cell_type": "markdown",
   "id": "465aabbf",
   "metadata": {},
   "source": [
    "B.Divisibility and Factors"
   ]
  },
  {
   "cell_type": "markdown",
   "id": "641b42d4",
   "metadata": {},
   "source": [
    "- Print the Divisibles of given Number"
   ]
  },
  {
   "cell_type": "code",
   "execution_count": 12,
   "id": "72ed824a",
   "metadata": {},
   "outputs": [
    {
     "name": "stdout",
     "output_type": "stream",
     "text": [
      "Numbers divisible of 456 are: 1, 2, 3, 4, 6, 8, 12, 19, 24, 38, 57, 76, 114, 152, 228, 456\n"
     ]
    }
   ],
   "source": [
    "givenNum = int(input())\n",
    "print('Numbers divisible of', givenNum , 'are:',end=' ')\n",
    "for currentNum in range(1, givenNum):\n",
    "    if givenNum % currentNum == 0:\n",
    "        print(currentNum, end=', ')\n",
    "print(givenNum)"
   ]
  },
  {
   "cell_type": "markdown",
   "id": "24438c58",
   "metadata": {},
   "source": [
    "- Find the Sum of Divisibles of given Number "
   ]
  },
  {
   "cell_type": "code",
   "execution_count": 14,
   "id": "4a8958e7",
   "metadata": {},
   "outputs": [
    {
     "name": "stdout",
     "output_type": "stream",
     "text": [
      "Some of divisibles of 10 is 18\n"
     ]
    }
   ],
   "source": [
    "givenNum = int(input())\n",
    "sumOfDivisibles = 0\n",
    "for currentNum in range(1, givenNum+1):\n",
    "    if givenNum % currentNum == 0:\n",
    "        sumOfDivisibles += currentNum;\n",
    "print('Some of divisibles of', givenNum, 'is', sumOfDivisibles)"
   ]
  },
  {
   "cell_type": "markdown",
   "id": "7a302c4d",
   "metadata": {},
   "source": [
    "- Count the Divisibles of given Number"
   ]
  },
  {
   "cell_type": "code",
   "execution_count": null,
   "id": "2b84cd54",
   "metadata": {},
   "outputs": [],
   "source": [
    "givenNum = int(input())\n",
    "countOfDivisibles = 0\n",
    "for currentNum in range(1, givenNum+1):\n",
    "    if givenNum % currentNum == 0:\n",
    "        countOfDivisibles+=1\n",
    "print('Some of divisibles of', givenNum, 'is', sumOfDivisibles)"
   ]
  }
 ],
 "metadata": {
  "kernelspec": {
   "display_name": "Python 3",
   "language": "python",
   "name": "python3"
  },
  "language_info": {
   "codemirror_mode": {
    "name": "ipython",
    "version": 3
   },
   "file_extension": ".py",
   "mimetype": "text/x-python",
   "name": "python",
   "nbconvert_exporter": "python",
   "pygments_lexer": "ipython3",
   "version": "3.13.2"
  }
 },
 "nbformat": 4,
 "nbformat_minor": 5
}
